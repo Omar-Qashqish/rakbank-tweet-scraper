{
 "cells": [
  {
   "cell_type": "code",
   "execution_count": 1,
   "metadata": {},
   "outputs": [],
   "source": [
    "from selenium import webdriver\n",
    "from selenium.webdriver.common.by import By\n",
    "from selenium.webdriver.common.keys import Keys\n",
    "from selenium.webdriver.chrome.options import Options\n",
    "import time, pickle, os\n",
    "from datetime import datetime, timedelta\n",
    "import pandas as pd\n"
   ]
  },
  {
   "cell_type": "code",
   "execution_count": 2,
   "metadata": {
    "colab": {
     "base_uri": "https://localhost:8080/"
    },
    "id": "cNQM4a7hKe4l",
    "outputId": "52caa8ab-33b3-4b6c-8165-225d55abd5a1"
   },
   "outputs": [],
   "source": [
    "USERNAME = \"test0011test10101@gmail.com\"\n",
    "PASSWORD = \"test11001tweetx\"\n",
    "COOKIES_FILE = \"twitter_cookies.pkl\""
   ]
  },
  {
   "cell_type": "code",
   "execution_count": 5,
   "metadata": {
    "id": "BVT4clPZKZJm"
   },
   "outputs": [],
   "source": [
    "options = Options()\n",
    "options.add_argument(\"--start-maximized\")\n",
    "driver = webdriver.Chrome(options=options)\n"
   ]
  },
  {
   "cell_type": "code",
   "execution_count": 7,
   "metadata": {
    "id": "bbJ69UH1KqUQ"
   },
   "outputs": [],
   "source": [
    "def login_and_save_cookies():\n",
    "    print(\"🔐 تسجيل الدخول...\")\n",
    "    driver.get(\"https://x.com/login\")\n",
    "    time.sleep(5)\n",
    "    driver.find_element(By.NAME, \"text\").send_keys(USERNAME + Keys.RETURN)\n",
    "    time.sleep(3)\n",
    "    driver.find_element(By.NAME, \"password\").send_keys(PASSWORD + Keys.RETURN)\n",
    "    time.sleep(10)\n",
    "    pickle.dump(driver.get_cookies(), open(COOKIES_FILE, \"wb\"))\n",
    "    print(\"✅ تم تسجيل الدخول وحفظ الكوكيز\")"
   ]
  },
  {
   "cell_type": "code",
   "execution_count": 9,
   "metadata": {},
   "outputs": [],
   "source": [
    "def load_cookies_or_login():\n",
    "    driver.get(\"https://x.com/\")\n",
    "    time.sleep(3)\n",
    "\n",
    "    # لو في كوكيز محفوظة، نستخدمها\n",
    "    if os.path.exists(COOKIES_FILE):\n",
    "        cookies = pickle.load(open(COOKIES_FILE, \"rb\"))\n",
    "        for cookie in cookies:\n",
    "            driver.add_cookie(cookie)\n",
    "        driver.get(\"https://x.com/\")\n",
    "        time.sleep(5)\n",
    "\n",
    "        # ✅ تحقق إذا تم التحميل بنجاح أو تم تحويلك لصفحة login\n",
    "        if \"login\" in driver.current_url.lower():\n",
    "            print(\"⚠️ الكوكيز انتهت صلاحيتها، جاري تسجيل الدخول...\")\n",
    "            login_and_save_cookies()\n",
    "        else:\n",
    "            print(\"✅ تم تحميل الكوكيز والدخول للحساب\")\n",
    "    else:\n",
    "        login_and_save_cookies()\n",
    "\n"
   ]
  },
  {
   "cell_type": "code",
   "execution_count": 11,
   "metadata": {
    "id": "ODcJwzUPKvvI"
   },
   "outputs": [],
   "source": [
    "def open_search_page():\n",
    "    driver.get(\"https://x.com/home\")\n",
    "    time.sleep(5)\n",
    "\n",
    "    search_url = \"https://x.com/search?q=rakbank&src=typed_query&f=live\"\n",
    "    driver.get(search_url)\n",
    "    time.sleep(8) \n"
   ]
  },
  {
   "cell_type": "code",
   "execution_count": 13,
   "metadata": {
    "colab": {
     "base_uri": "https://localhost:8080/",
     "height": 463
    },
    "id": "dQ3fOSEjKySk",
    "outputId": "b2b75437-6cbd-4b0c-e9d0-79351ce12d92"
   },
   "outputs": [],
   "source": [
    "# def scroll_page(pause=2, count=25):\n",
    "#     for _ in range(count):\n",
    "#         driver.execute_script(\"window.scrollTo(0, document.body.scrollHeight);\")\n",
    "#         time.sleep(pause)\n",
    "\n",
    "\n",
    "def scroll_until_end(pause_time=2, max_rounds=50):\n",
    "    last_count = 0\n",
    "    for i in range(max_rounds):\n",
    "        driver.execute_script(\"window.scrollTo(0, document.body.scrollHeight);\")\n",
    "        time.sleep(pause_time)\n",
    "\n",
    "        tweets_now = driver.find_elements(By.XPATH, \"//article[@data-testid='tweet']\")\n",
    "        print(f\"⬇️ الجولة {i+1} - عدد التغريدات: {len(tweets_now)}\")\n",
    "\n",
    "        if len(tweets_now) == last_count:\n",
    "            print(\"✅ ما في تغريدات جديدة، تم الوصول للنهاية.\")\n",
    "            break\n",
    "        last_count = len(tweets_now)\n"
   ]
  },
  {
   "cell_type": "code",
   "execution_count": 37,
   "metadata": {
    "colab": {
     "base_uri": "https://localhost:8080/",
     "height": 89
    },
    "id": "RjrCWWnRK0o9",
    "outputId": "0ed2b58a-fe39-4802-b7a7-949b595fff5c"
   },
   "outputs": [],
   "source": [
    "def scroll_until_no_more(pause=2, max_attempts=50):\n",
    "    last_height = driver.execute_script(\"return document.body.scrollHeight\")\n",
    "    same_count = 0\n",
    "\n",
    "    for i in range(max_attempts):\n",
    "        driver.execute_script(\"window.scrollTo(0, document.body.scrollHeight);\")\n",
    "        time.sleep(pause)\n",
    "\n",
    "        new_height = driver.execute_script(\"return document.body.scrollHeight\")\n",
    "\n",
    "        if new_height == last_height:\n",
    "            same_count += 1\n",
    "            print(f\"⏳ لا تغيير بالجولة {i+1}... (محاولة {same_count})\")\n",
    "            if same_count >= 3:\n",
    "                print(\"✅ تم الوصول لنهاية الصفحة.\")\n",
    "                break\n",
    "        else:\n",
    "            same_count = 0  # تم تحميل شيء جديد\n",
    "\n",
    "        last_height = new_height\n"
   ]
  },
  {
   "cell_type": "code",
   "execution_count": 39,
   "metadata": {},
   "outputs": [
    {
     "name": "stdout",
     "output_type": "stream",
     "text": [
      "✅ تم تحميل الكوكيز والدخول للحساب\n",
      "⏳ لا تغيير بالجولة 1... (محاولة 1)\n",
      "⏳ لا تغيير بالجولة 2... (محاولة 2)\n",
      "⏳ لا تغيير بالجولة 3... (محاولة 3)\n",
      "✅ تم الوصول لنهاية الصفحة.\n"
     ]
    }
   ],
   "source": [
    "load_cookies_or_login()\n",
    "open_search_page()\n",
    "scroll_until_no_more(pause=2, max_attempts=60)\n"
   ]
  },
  {
   "cell_type": "code",
   "execution_count": 41,
   "metadata": {},
   "outputs": [
    {
     "name": "stdout",
     "output_type": "stream",
     "text": [
      "🧠 عدد التغريدات الظاهرة: 5\n"
     ]
    }
   ],
   "source": [
    "tweets = extract_tweets()"
   ]
  },
  {
   "cell_type": "code",
   "execution_count": 42,
   "metadata": {
    "id": "px5afr8FK5-2"
   },
   "outputs": [
    {
     "data": {
      "text/html": [
       "<div>\n",
       "<style scoped>\n",
       "    .dataframe tbody tr th:only-of-type {\n",
       "        vertical-align: middle;\n",
       "    }\n",
       "\n",
       "    .dataframe tbody tr th {\n",
       "        vertical-align: top;\n",
       "    }\n",
       "\n",
       "    .dataframe thead th {\n",
       "        text-align: right;\n",
       "    }\n",
       "</style>\n",
       "<table border=\"1\" class=\"dataframe\">\n",
       "  <thead>\n",
       "    <tr style=\"text-align: right;\">\n",
       "      <th></th>\n",
       "      <th>Username</th>\n",
       "      <th>Date</th>\n",
       "      <th>Content</th>\n",
       "      <th>Likes</th>\n",
       "      <th>Retweets</th>\n",
       "      <th>Link</th>\n",
       "    </tr>\n",
       "  </thead>\n",
       "  <tbody>\n",
       "    <tr>\n",
       "      <th>0</th>\n",
       "      <td>RAKBANK</td>\n",
       "      <td>2025-05-12 06:11</td>\n",
       "      <td>Hello, we regret the inconvenience for the unp...</td>\n",
       "      <td>0</td>\n",
       "      <td>0</td>\n",
       "      <td>https://x.com/RAKBANKlive/status/1921810505968...</td>\n",
       "    </tr>\n",
       "    <tr>\n",
       "      <th>1</th>\n",
       "      <td>Customer Experience Live</td>\n",
       "      <td>2025-05-10 09:30</td>\n",
       "      <td>We welcome Mohammad Ahteshamoddin, Senior VP &amp;...</td>\n",
       "      <td>0</td>\n",
       "      <td>0</td>\n",
       "      <td>https://x.com/CXLiveTweets/status/192113567909...</td>\n",
       "    </tr>\n",
       "    <tr>\n",
       "      <th>2</th>\n",
       "      <td>وظائف اليوم</td>\n",
       "      <td>2025-05-10 07:45</td>\n",
       "      <td>وظائف بنك راس الخيمة RAKBANK للمواطنين وللوافدين</td>\n",
       "      <td>0</td>\n",
       "      <td>0</td>\n",
       "      <td>https://x.com/wazaifcom1/status/19211094330079...</td>\n",
       "    </tr>\n",
       "    <tr>\n",
       "      <th>3</th>\n",
       "      <td>Hariram</td>\n",
       "      <td>2025-05-08 11:15</td>\n",
       "      <td>@RAKBANKlive\\n : Hello RAKBANK team , I have a...</td>\n",
       "      <td>0</td>\n",
       "      <td>0</td>\n",
       "      <td>https://x.com/hariramtn/status/192043737735858...</td>\n",
       "    </tr>\n",
       "    <tr>\n",
       "      <th>4</th>\n",
       "      <td>T&amp;momo</td>\n",
       "      <td>2025-05-08 11:09</td>\n",
       "      <td>使用準備が整っている銀行　仮想通貨xrp③\\n\\nRAKBANK\\nアメリカン・エキスプレス...</td>\n",
       "      <td>0</td>\n",
       "      <td>0</td>\n",
       "      <td>https://x.com/momo_t111/status/192043589673990...</td>\n",
       "    </tr>\n",
       "  </tbody>\n",
       "</table>\n",
       "</div>"
      ],
      "text/plain": [
       "                   Username              Date  \\\n",
       "0                   RAKBANK  2025-05-12 06:11   \n",
       "1  Customer Experience Live  2025-05-10 09:30   \n",
       "2               وظائف اليوم  2025-05-10 07:45   \n",
       "3                   Hariram  2025-05-08 11:15   \n",
       "4                    T&momo  2025-05-08 11:09   \n",
       "\n",
       "                                             Content Likes Retweets  \\\n",
       "0  Hello, we regret the inconvenience for the unp...     0        0   \n",
       "1  We welcome Mohammad Ahteshamoddin, Senior VP &...     0        0   \n",
       "2   وظائف بنك راس الخيمة RAKBANK للمواطنين وللوافدين     0        0   \n",
       "3  @RAKBANKlive\\n : Hello RAKBANK team , I have a...     0        0   \n",
       "4  使用準備が整っている銀行　仮想通貨xrp③\\n\\nRAKBANK\\nアメリカン・エキスプレス...     0        0   \n",
       "\n",
       "                                                Link  \n",
       "0  https://x.com/RAKBANKlive/status/1921810505968...  \n",
       "1  https://x.com/CXLiveTweets/status/192113567909...  \n",
       "2  https://x.com/wazaifcom1/status/19211094330079...  \n",
       "3  https://x.com/hariramtn/status/192043737735858...  \n",
       "4  https://x.com/momo_t111/status/192043589673990...  "
      ]
     },
     "execution_count": 42,
     "metadata": {},
     "output_type": "execute_result"
    }
   ],
   "source": [
    "df = pd.DataFrame(tweets)\n",
    "df"
   ]
  },
  {
   "cell_type": "code",
   "execution_count": 24,
   "metadata": {},
   "outputs": [],
   "source": [
    "df.to_excel(\"rakbank_tweets_last2weeks.xlsx\", index=False)\n"
   ]
  },
  {
   "cell_type": "code",
   "execution_count": null,
   "metadata": {},
   "outputs": [],
   "source": []
  }
 ],
 "metadata": {
  "colab": {
   "provenance": []
  },
  "kernelspec": {
   "display_name": "Python [conda env:base] *",
   "language": "python",
   "name": "conda-base-py"
  },
  "language_info": {
   "codemirror_mode": {
    "name": "ipython",
    "version": 3
   },
   "file_extension": ".py",
   "mimetype": "text/x-python",
   "name": "python",
   "nbconvert_exporter": "python",
   "pygments_lexer": "ipython3",
   "version": "3.12.7"
  }
 },
 "nbformat": 4,
 "nbformat_minor": 4
}
